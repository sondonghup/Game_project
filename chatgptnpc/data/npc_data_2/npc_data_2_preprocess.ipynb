{
 "cells": [
  {
   "cell_type": "code",
   "execution_count": 1,
   "metadata": {},
   "outputs": [],
   "source": [
    "import pandas as pd\n",
    "\n",
    "data_df = pd.read_csv('npc_data_list.tsv', sep='\\t')"
   ]
  },
  {
   "cell_type": "code",
   "execution_count": 6,
   "metadata": {},
   "outputs": [],
   "source": [
    "# npc 별로 sort\n",
    "preprocess_1_data_df = data_df.sort_values(by = ['npc'])"
   ]
  },
  {
   "cell_type": "code",
   "execution_count": 7,
   "metadata": {},
   "outputs": [
    {
     "name": "stdout",
     "output_type": "stream",
     "text": [
      "스탠스라는 기술일세. 위험한 일임에도 용기 있게 참가해 준 자네라면 이 기술을 익힐 자격이 충분하네. 앞으로도 몬스터들의 위협에 용기 있게 맞서주길.\n",
      "떠날 준비가 되면 날 찾아오게.\n",
      "크림슨 발록뿐이라면 괜찮지만 라이칸스로프까지 함께라면 도움이 절실하겠더군. 하지만 위험한 일인데 정말 괜찮겠나? 안될 것 같으면 말하게. 다른 장로들도 있고, 정히 위험하다 싶으면 하르모니아님께서도 도와주실 테니… 정말 자네가 호위를 하겠는가?\n",
      "하르모니아님께 이야기는 들었네. 크림슨 발록이 나를 납치하겠다고 그랬다더군. 예전부터 그 녀석들은 강한 자들만을 노려 공격하곤 했지. 이 타일러스 역시 그 녀석들의 공격을 많이 받아 봤어.\n",
      "시험에 응할 준비가 되었는가? 그렇다면 좋네. 이 엘나스에는 날카로운절벽1이라는 곳이 있네. 이 절벽에 있는 돌비석 뒤에는 설원의성지로 통하는 길이 있지.\n",
      "설원의성지로 가서 그곳에 있는 성스러운 돌을 만져보게. 그 신비한 힘을 가진 돌이 자네를 이곳과 다른 또다른 차원으로 보낼걸세. 그곳에서 자네를 기다리는 적과 싸워, 그 전리품을 구해 오는 것이 시험의 요체일세.\n",
      "시험을 치를 준비가 되지 않은 건가? 이 시험을 통과하지 못한다면 그냥 빅토리아 아일랜드로 돌아가는 게 더 나을 걸세.\n",
      "곤란한 모양이군. 자네 혼자서로는 어려울 테니 동료를 모아 오는 건 어떤가?\n",
      "그렇다면 서두르게. 곧 출발할 걸세. 자네가 호위에 성공해서 내 믿음을 얻게 된다면 자네에게 스탠스를 가르쳐 주겠네.\n",
      "시험에 응할 준비가 되었는가? 그렇다면 좋네. 이 엘나스에는 날카로운절벽1이라는 곳이 있네. 이 절벽에 있는 돌비석 뒤에는 설원의성지로 통하는 길이 있지.\n",
      "더 이상의 강함은 필요치 않은가? 그렇다면 물러나도 상관 없겠지.\n",
      "시험에 응할 준비가 되었는가? 그렇다면 좋네. 이 엘나스에는 날카로운절벽1이라는 곳이 있네. 이 절벽에 있는 돌비석 뒤에는 설원의성지로 통하는 길이 있지.\n",
      "설원의성지로 가서 그곳에 있는 성스러운 돌을 만져보게. 그 신비한 힘을 가진 돌이 자네를 이곳과 다른 또다른 차원으로 보낼걸세. 그곳에서 자네를 기다리는 적과 싸워, 그 전리품을 구해 오는 것이 시험의 요체일세.\n",
      "후후... 어떤 적일지 기대해도 좋아. 자네도 잘 아는 사람일 걸세.    (수락 시, 설원의성지로 이동합니다)\n",
      "아직 리프레로 떠나지 않은 건가? 망설임은 불필요하다네.\n",
      "시험을 치를 준비가 되지 않은 건가? 이 시험을 통과하지 못한다면 그냥 빅토리아 아일랜드로 돌아가는 게 더 나을 걸세.\n",
      "사제의 숲은 진정한 강함을 탐구하는 사제들이 있는 곳. 그곳에 자네를 인도할 사람이 있을 걸세.\n",
      "후후... 어떤 적일지 기대해도 좋아. 자네도 잘 아는 사람일 걸세.     (수락 시, 설원의 성지로 이동합니다)\n",
      "시험을 치를 준비가 되지 않은 건가? 이 시험을 통과하지 못한다면 그냥 빅토리아 아일랜드로 돌아가는 게 더 나을 걸세.\n",
      "후후... 어떤 적일지 기대해도 좋아. 자네도 잘 아는 사람일 걸세.     (수락 시, 설원의 성지로 이동합니다)\n",
      "설원의성지로 가서 그곳에 있는 성스러운 돌을 만져보게. 그 신비한 힘을 가진 돌이 자네를 이곳과 다른 또다른 차원으로 보낼걸세. 그곳에서 자네를 기다리는 적과 싸워, 그 전리품을 구해 오는 것이 시험의 요체일세.\n",
      "몰라볼 정도로 강해졌군, (캐릭터 이름). 하지만 힘이 우물 안에 갇힌 듯한 느낌이 들어.우물 밖으로 나오고 싶지 않나? 관심이 있다면 용과 하플링의 마을 리프레…… 사제의 숲에 가보게.        (수락 시 자동으로 이동됩니다.)\n"
     ]
    }
   ],
   "source": [
    "# (수락 시 자동으로 이동됩니다.) 등의 데이터를 확인\n",
    "for text in preprocess_1_data_df[preprocess_1_data_df.npc == '타일러스']['conversation'] :\n",
    "    print(text)"
   ]
  },
  {
   "cell_type": "code",
   "execution_count": 9,
   "metadata": {},
   "outputs": [
    {
     "name": "stdout",
     "output_type": "stream",
     "text": [
      "33893 -> 29192\n"
     ]
    }
   ],
   "source": [
    "# 같은 npc가 같은 말을 하는 데이터를 삭제\n",
    "preprocess_2_data_df = preprocess_1_data_df.drop_duplicates(['npc','conversation'])\n",
    "print(f'{len(preprocess_1_data_df)} -> {len(preprocess_2_data_df)}')"
   ]
  },
  {
   "cell_type": "code",
   "execution_count": 10,
   "metadata": {},
   "outputs": [
    {
     "name": "stderr",
     "output_type": "stream",
     "text": [
      "/var/folders/sd/v8t1s96d1y31p3yb766dks3m0000gn/T/ipykernel_23363/3720011378.py:1: SettingWithCopyWarning: \n",
      "A value is trying to be set on a copy of a slice from a DataFrame.\n",
      "Try using .loc[row_indexer,col_indexer] = value instead\n",
      "\n",
      "See the caveats in the documentation: https://pandas.pydata.org/pandas-docs/stable/user_guide/indexing.html#returning-a-view-versus-a-copy\n",
      "  preprocess_2_data_df['conversation'] = preprocess_2_data_df['conversation'].replace(r'\\(수락.*', '',regex=True)\n"
     ]
    }
   ],
   "source": [
    "# (수락 시, ... 로 이동합니다) 를 모두 제거 합니다.\n",
    "preprocess_2_data_df['conversation'] = preprocess_2_data_df['conversation'].replace(r'\\(수락.*', '',regex=True)"
   ]
  },
  {
   "cell_type": "code",
   "execution_count": 11,
   "metadata": {},
   "outputs": [
    {
     "name": "stdout",
     "output_type": "stream",
     "text": [
      "스탠스라는 기술일세. 위험한 일임에도 용기 있게 참가해 준 자네라면 이 기술을 익힐 자격이 충분하네. 앞으로도 몬스터들의 위협에 용기 있게 맞서주길.\n",
      "떠날 준비가 되면 날 찾아오게.\n",
      "크림슨 발록뿐이라면 괜찮지만 라이칸스로프까지 함께라면 도움이 절실하겠더군. 하지만 위험한 일인데 정말 괜찮겠나? 안될 것 같으면 말하게. 다른 장로들도 있고, 정히 위험하다 싶으면 하르모니아님께서도 도와주실 테니… 정말 자네가 호위를 하겠는가?\n",
      "하르모니아님께 이야기는 들었네. 크림슨 발록이 나를 납치하겠다고 그랬다더군. 예전부터 그 녀석들은 강한 자들만을 노려 공격하곤 했지. 이 타일러스 역시 그 녀석들의 공격을 많이 받아 봤어.\n",
      "시험에 응할 준비가 되었는가? 그렇다면 좋네. 이 엘나스에는 날카로운절벽1이라는 곳이 있네. 이 절벽에 있는 돌비석 뒤에는 설원의성지로 통하는 길이 있지.\n",
      "설원의성지로 가서 그곳에 있는 성스러운 돌을 만져보게. 그 신비한 힘을 가진 돌이 자네를 이곳과 다른 또다른 차원으로 보낼걸세. 그곳에서 자네를 기다리는 적과 싸워, 그 전리품을 구해 오는 것이 시험의 요체일세.\n",
      "시험을 치를 준비가 되지 않은 건가? 이 시험을 통과하지 못한다면 그냥 빅토리아 아일랜드로 돌아가는 게 더 나을 걸세.\n",
      "곤란한 모양이군. 자네 혼자서로는 어려울 테니 동료를 모아 오는 건 어떤가?\n",
      "그렇다면 서두르게. 곧 출발할 걸세. 자네가 호위에 성공해서 내 믿음을 얻게 된다면 자네에게 스탠스를 가르쳐 주겠네.\n",
      "더 이상의 강함은 필요치 않은가? 그렇다면 물러나도 상관 없겠지.\n",
      "후후... 어떤 적일지 기대해도 좋아. 자네도 잘 아는 사람일 걸세.    \n",
      "아직 리프레로 떠나지 않은 건가? 망설임은 불필요하다네.\n",
      "사제의 숲은 진정한 강함을 탐구하는 사제들이 있는 곳. 그곳에 자네를 인도할 사람이 있을 걸세.\n",
      "후후... 어떤 적일지 기대해도 좋아. 자네도 잘 아는 사람일 걸세.     \n",
      "몰라볼 정도로 강해졌군, (캐릭터 이름). 하지만 힘이 우물 안에 갇힌 듯한 느낌이 들어.우물 밖으로 나오고 싶지 않나? 관심이 있다면 용과 하플링의 마을 리프레…… 사제의 숲에 가보게.        \n"
     ]
    }
   ],
   "source": [
    "# (수락 시, ... 로 이동합니다) 가 모두 제거 된것을 확인\n",
    "for text in preprocess_2_data_df[preprocess_2_data_df.npc == '타일러스']['conversation']:\n",
    "    print(text)\n"
   ]
  },
  {
   "cell_type": "code",
   "execution_count": 12,
   "metadata": {},
   "outputs": [],
   "source": [
    "preprocess_2_data_df.to_csv('preprocessed_npc_data_list.tsv', index=False, sep='\\t')"
   ]
  },
  {
   "cell_type": "code",
   "execution_count": 51,
   "metadata": {},
   "outputs": [
    {
     "data": {
      "text/plain": [
       "카산드라        1877\n",
       "(캐릭터 이름)    1529\n",
       "메이플 운영자     1081\n",
       "나인하트         577\n",
       "이데아          450\n",
       "            ... \n",
       "삐빅             1\n",
       "타나             1\n",
       "삐미             1\n",
       "삐돌             1\n",
       "쁘띠             1\n",
       "Name: npc, Length: 1098, dtype: int64"
      ]
     },
     "execution_count": 51,
     "metadata": {},
     "output_type": "execute_result"
    }
   ],
   "source": [
    "preprocess_2_data_df['npc'].value_counts()"
   ]
  }
 ],
 "metadata": {
  "kernelspec": {
   "display_name": "Python 3",
   "language": "python",
   "name": "python3"
  },
  "language_info": {
   "codemirror_mode": {
    "name": "ipython",
    "version": 3
   },
   "file_extension": ".py",
   "mimetype": "text/x-python",
   "name": "python",
   "nbconvert_exporter": "python",
   "pygments_lexer": "ipython3",
   "version": "3.9.6 (default, Mar 10 2023, 20:16:38) \n[Clang 14.0.3 (clang-1403.0.22.14.1)]"
  },
  "orig_nbformat": 4,
  "vscode": {
   "interpreter": {
    "hash": "31f2aee4e71d21fbe5cf8b01ff0e069b9275f58929596ceb00d14d90e3e16cd6"
   }
  }
 },
 "nbformat": 4,
 "nbformat_minor": 2
}
